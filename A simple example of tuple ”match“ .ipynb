{
 "cells": [
  {
   "cell_type": "code",
   "execution_count": 1,
   "id": "d0ed3155",
   "metadata": {},
   "outputs": [],
   "source": [
    "import torch"
   ]
  },
  {
   "cell_type": "code",
   "execution_count": 2,
   "id": "14646fdd",
   "metadata": {},
   "outputs": [],
   "source": [
    " sample = torch.randint(0,10,size=(3,))"
   ]
  },
  {
   "cell_type": "code",
   "execution_count": 3,
   "id": "cde77a1e",
   "metadata": {},
   "outputs": [],
   "source": [
    "expand = torch.randint(0,10,size=(3,2,2))"
   ]
  },
  {
   "cell_type": "code",
   "execution_count": 4,
   "id": "97c0c6e7",
   "metadata": {},
   "outputs": [
    {
     "name": "stdout",
     "output_type": "stream",
     "text": [
      "tensor([9, 9, 1])\n"
     ]
    },
    {
     "data": {
      "text/plain": [
       "torch.Size([3])"
      ]
     },
     "execution_count": 4,
     "metadata": {},
     "output_type": "execute_result"
    }
   ],
   "source": [
    "print(sample)\n",
    "sample.size()"
   ]
  },
  {
   "cell_type": "code",
   "execution_count": 5,
   "id": "33e18066",
   "metadata": {},
   "outputs": [
    {
     "name": "stdout",
     "output_type": "stream",
     "text": [
      "tensor([[[7, 1],\n",
      "         [4, 8]],\n",
      "\n",
      "        [[9, 2],\n",
      "         [2, 5]],\n",
      "\n",
      "        [[0, 7],\n",
      "         [5, 1]]])\n"
     ]
    },
    {
     "data": {
      "text/plain": [
       "torch.Size([3, 2, 2])"
      ]
     },
     "execution_count": 5,
     "metadata": {},
     "output_type": "execute_result"
    }
   ],
   "source": [
    "print(expand)\n",
    "expand.size()"
   ]
  },
  {
   "cell_type": "code",
   "execution_count": 6,
   "id": "a42dce90",
   "metadata": {},
   "outputs": [],
   "source": [
    "sample_ = sample.unsqueeze(0).unsqueeze(0).unsqueeze(0)"
   ]
  },
  {
   "cell_type": "code",
   "execution_count": 7,
   "id": "a77a5a76",
   "metadata": {},
   "outputs": [],
   "source": [
    "match = (expand.unsqueeze(-1)== sample_).long()"
   ]
  },
  {
   "cell_type": "code",
   "execution_count": 8,
   "id": "30e68e01",
   "metadata": {},
   "outputs": [],
   "source": [
    "match = torch.where(match>0)"
   ]
  },
  {
   "cell_type": "code",
   "execution_count": 9,
   "id": "147ca5d5",
   "metadata": {},
   "outputs": [
    {
     "data": {
      "text/plain": [
       "(tensor([0, 1, 1, 2]),\n",
       " tensor([0, 0, 0, 1]),\n",
       " tensor([1, 0, 0, 1]),\n",
       " tensor([2, 0, 1, 2]))"
      ]
     },
     "execution_count": 9,
     "metadata": {},
     "output_type": "execute_result"
    }
   ],
   "source": [
    "match"
   ]
  },
  {
   "cell_type": "code",
   "execution_count": 10,
   "id": "96f250e5",
   "metadata": {},
   "outputs": [
    {
     "data": {
      "text/plain": [
       "tensor([1, 9, 9, 1])"
      ]
     },
     "execution_count": 10,
     "metadata": {},
     "output_type": "execute_result"
    }
   ],
   "source": [
    "sample[match[-1]]"
   ]
  },
  {
   "cell_type": "code",
   "execution_count": 11,
   "id": "fafe04aa",
   "metadata": {},
   "outputs": [
    {
     "data": {
      "text/plain": [
       "tensor([[[7, 1],\n",
       "         [4, 8]],\n",
       "\n",
       "        [[9, 2],\n",
       "         [2, 5]],\n",
       "\n",
       "        [[9, 2],\n",
       "         [2, 5]],\n",
       "\n",
       "        [[0, 7],\n",
       "         [5, 1]]])"
      ]
     },
     "execution_count": 11,
     "metadata": {},
     "output_type": "execute_result"
    }
   ],
   "source": [
    "expand[match[0]]"
   ]
  },
  {
   "cell_type": "code",
   "execution_count": 12,
   "id": "fa130575",
   "metadata": {},
   "outputs": [
    {
     "data": {
      "text/plain": [
       "tensor([1, 9, 9, 1])"
      ]
     },
     "execution_count": 12,
     "metadata": {},
     "output_type": "execute_result"
    }
   ],
   "source": [
    "expand[match[0],match[1],match[2]]"
   ]
  }
 ],
 "metadata": {
  "kernelspec": {
   "display_name": "Python 3 (ipykernel)",
   "language": "python",
   "name": "python3"
  },
  "language_info": {
   "codemirror_mode": {
    "name": "ipython",
    "version": 3
   },
   "file_extension": ".py",
   "mimetype": "text/x-python",
   "name": "python",
   "nbconvert_exporter": "python",
   "pygments_lexer": "ipython3",
   "version": "3.10.11"
  }
 },
 "nbformat": 4,
 "nbformat_minor": 5
}

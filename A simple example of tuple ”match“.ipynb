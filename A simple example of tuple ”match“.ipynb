{
 "cells": [
  {
   "cell_type": "code",
   "execution_count": 71,
   "id": "d0ed3155",
   "metadata": {},
   "outputs": [],
   "source": [
    "import torch"
   ]
  },
  {
   "cell_type": "code",
   "execution_count": 72,
   "id": "14646fdd",
   "metadata": {},
   "outputs": [],
   "source": [
    " sample = torch.randint(0,10,size=(3,))"
   ]
  },
  {
   "cell_type": "code",
   "execution_count": 73,
   "id": "cde77a1e",
   "metadata": {},
   "outputs": [],
   "source": [
    "expand = torch.randint(0,10,size=(3,2,2))"
   ]
  },
  {
   "cell_type": "code",
   "execution_count": 74,
   "id": "97c0c6e7",
   "metadata": {},
   "outputs": [
    {
     "name": "stdout",
     "output_type": "stream",
     "text": [
      "tensor([6, 3, 7])\n"
     ]
    },
    {
     "data": {
      "text/plain": [
       "torch.Size([3])"
      ]
     },
     "execution_count": 74,
     "metadata": {},
     "output_type": "execute_result"
    }
   ],
   "source": [
    "print(sample)\n",
    "sample.size()"
   ]
  },
  {
   "cell_type": "code",
   "execution_count": 75,
   "id": "33e18066",
   "metadata": {},
   "outputs": [
    {
     "name": "stdout",
     "output_type": "stream",
     "text": [
      "tensor([[[7, 0],\n",
      "         [3, 3]],\n",
      "\n",
      "        [[1, 3],\n",
      "         [6, 7]],\n",
      "\n",
      "        [[9, 7],\n",
      "         [8, 5]]])\n"
     ]
    },
    {
     "data": {
      "text/plain": [
       "torch.Size([3, 2, 2])"
      ]
     },
     "execution_count": 75,
     "metadata": {},
     "output_type": "execute_result"
    }
   ],
   "source": [
    "print(expand)\n",
    "expand.size()"
   ]
  },
  {
   "cell_type": "code",
   "execution_count": 76,
   "id": "a42dce90",
   "metadata": {},
   "outputs": [],
   "source": [
    "sample_ = sample.unsqueeze(0).unsqueeze(0).unsqueeze(0)"
   ]
  },
  {
   "cell_type": "code",
   "execution_count": 77,
   "id": "a77a5a76",
   "metadata": {},
   "outputs": [],
   "source": [
    "match = (expand.unsqueeze(-1)== sample_).long()"
   ]
  },
  {
   "cell_type": "code",
   "execution_count": 78,
   "id": "30e68e01",
   "metadata": {},
   "outputs": [],
   "source": [
    "match = torch.where(match>0)"
   ]
  },
  {
   "cell_type": "code",
   "execution_count": 79,
   "id": "147ca5d5",
   "metadata": {},
   "outputs": [
    {
     "data": {
      "text/plain": [
       "(tensor([0, 0, 0, 1, 1, 1, 2]),\n",
       " tensor([0, 1, 1, 0, 1, 1, 0]),\n",
       " tensor([0, 0, 1, 1, 0, 1, 1]),\n",
       " tensor([2, 1, 1, 1, 0, 2, 2]))"
      ]
     },
     "execution_count": 79,
     "metadata": {},
     "output_type": "execute_result"
    }
   ],
   "source": [
    "match"
   ]
  },
  {
   "cell_type": "code",
   "execution_count": 80,
   "id": "96f250e5",
   "metadata": {},
   "outputs": [
    {
     "data": {
      "text/plain": [
       "tensor([7, 3, 3, 3, 6, 7, 7])"
      ]
     },
     "execution_count": 80,
     "metadata": {},
     "output_type": "execute_result"
    }
   ],
   "source": [
    "sample[match[-1]]"
   ]
  },
  {
   "cell_type": "code",
   "execution_count": 81,
   "id": "fafe04aa",
   "metadata": {},
   "outputs": [
    {
     "data": {
      "text/plain": [
       "tensor([[[7, 0],\n",
       "         [3, 3]],\n",
       "\n",
       "        [[7, 0],\n",
       "         [3, 3]],\n",
       "\n",
       "        [[7, 0],\n",
       "         [3, 3]],\n",
       "\n",
       "        [[1, 3],\n",
       "         [6, 7]],\n",
       "\n",
       "        [[1, 3],\n",
       "         [6, 7]],\n",
       "\n",
       "        [[1, 3],\n",
       "         [6, 7]],\n",
       "\n",
       "        [[9, 7],\n",
       "         [8, 5]]])"
      ]
     },
     "execution_count": 81,
     "metadata": {},
     "output_type": "execute_result"
    }
   ],
   "source": [
    "expand[match[0]]"
   ]
  },
  {
   "cell_type": "code",
   "execution_count": 82,
   "id": "fa130575",
   "metadata": {},
   "outputs": [
    {
     "data": {
      "text/plain": [
       "tensor([7, 3, 3, 3, 6, 7, 7])"
      ]
     },
     "execution_count": 82,
     "metadata": {},
     "output_type": "execute_result"
    }
   ],
   "source": [
    "expand[match[0],match[1],match[2]]"
   ]
  },
  {
   "cell_type": "code",
   "execution_count": null,
   "id": "4fbf1708",
   "metadata": {},
   "outputs": [],
   "source": []
  }
 ],
 "metadata": {
  "kernelspec": {
   "display_name": "Python 3 (ipykernel)",
   "language": "python",
   "name": "python3"
  },
  "language_info": {
   "codemirror_mode": {
    "name": "ipython",
    "version": 3
   },
   "file_extension": ".py",
   "mimetype": "text/x-python",
   "name": "python",
   "nbconvert_exporter": "python",
   "pygments_lexer": "ipython3",
   "version": "3.10.11"
  }
 },
 "nbformat": 4,
 "nbformat_minor": 5
}
